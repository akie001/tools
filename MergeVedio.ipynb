{
 "cells": [
  {
   "cell_type": "code",
   "execution_count": 1,
   "id": "1a6ace9f",
   "metadata": {},
   "outputs": [
    {
     "data": {
      "text/plain": [
       "'c:\\\\Users\\\\86180\\\\Desktop\\\\pic\\\\yuan'"
      ]
     },
     "execution_count": 1,
     "metadata": {},
     "output_type": "execute_result"
    }
   ],
   "source": [
    "# 编写代码，使该代码文件所在的目录的同名音视频文件（扩展名为.mp4和.m4a）合并成一个新的音视频文件，合并后的文件名为“原文件名.mp4”。\n",
    "# 需要注意的是视频文件含1080字样（表示分辨率），音频文件含192字样（表示采样率），合并后的文件不需要包含这些字样。\n",
    "\n",
    "import os\n",
    "import sys\n",
    "# 获取当前脚本所在的目录\n",
    "current_dir = os.getcwd()\n",
    "current_dir"
   ]
  },
  {
   "cell_type": "code",
   "execution_count": 2,
   "id": "d27a5062",
   "metadata": {},
   "outputs": [],
   "source": [
    "# 定义音频和视频文件的扩展名\n",
    "video_ext = '.mp4'\n",
    "audio_ext = '.m4a'\n",
    "# 获取目录下所有文件\n",
    "files = os.listdir(current_dir)\n",
    "# 筛选出符合条件的音频和视频文件\n",
    "video_files = [f for f in files if f.endswith(video_ext) and '1080' in f]\n",
    "audio_files = [f for f in files if f.endswith(audio_ext) and '192k' in f]"
   ]
  },
  {
   "cell_type": "code",
   "execution_count": 3,
   "id": "adfc92a6",
   "metadata": {},
   "outputs": [
    {
     "data": {
      "text/plain": [
       "['在学校跳了奶油苏打和冕形灯存个档.1080.mp4',\n",
       " '社恐（划掉）青海摇2.0_但是被路人看见.1080.mp4',\n",
       " '第一次外景有点紧张.1080.mp4']"
      ]
     },
     "execution_count": 3,
     "metadata": {},
     "output_type": "execute_result"
    }
   ],
   "source": [
    "video_files"
   ]
  },
  {
   "cell_type": "code",
   "execution_count": 4,
   "id": "639a5441",
   "metadata": {},
   "outputs": [
    {
     "data": {
      "text/plain": [
       "['在学校跳了奶油苏打和冕形灯存个档.192k.m4a',\n",
       " '社恐（划掉）青海摇2.0_但是被路人看见.192k.m4a',\n",
       " '第一次外景有点紧张.192k.m4a']"
      ]
     },
     "execution_count": 4,
     "metadata": {},
     "output_type": "execute_result"
    }
   ],
   "source": [
    "audio_files"
   ]
  },
  {
   "cell_type": "code",
   "execution_count": 5,
   "id": "efe484bd",
   "metadata": {},
   "outputs": [
    {
     "name": "stdout",
     "output_type": "stream",
     "text": [
      "Moviepy - Building video 在学校跳了奶油苏打和冕形灯存个档.mp4.\n",
      "MoviePy - Writing audio in 在学校跳了奶油苏打和冕形灯存个档TEMP_MPY_wvf_snd.mp4\n"
     ]
    },
    {
     "name": "stderr",
     "output_type": "stream",
     "text": [
      "                                                                      \r"
     ]
    },
    {
     "name": "stdout",
     "output_type": "stream",
     "text": [
      "MoviePy - Done.\n",
      "Moviepy - Writing video 在学校跳了奶油苏打和冕形灯存个档.mp4\n",
      "\n"
     ]
    },
    {
     "name": "stderr",
     "output_type": "stream",
     "text": [
      "                                                                \r"
     ]
    },
    {
     "name": "stdout",
     "output_type": "stream",
     "text": [
      "Moviepy - Done !\n",
      "Moviepy - video ready 在学校跳了奶油苏打和冕形灯存个档.mp4\n",
      "合并完成: 在学校跳了奶油苏打和冕形灯存个档.mp4\n",
      "Moviepy - Building video 社恐（划掉）青海摇2.0_但是被路人看见.mp4.\n",
      "MoviePy - Writing audio in 社恐（划掉）青海摇2.0_但是被路人看见TEMP_MPY_wvf_snd.mp4\n"
     ]
    },
    {
     "name": "stderr",
     "output_type": "stream",
     "text": [
      "                                                                    \r"
     ]
    },
    {
     "name": "stdout",
     "output_type": "stream",
     "text": [
      "MoviePy - Done.\n",
      "Moviepy - Writing video 社恐（划掉）青海摇2.0_但是被路人看见.mp4\n",
      "\n"
     ]
    },
    {
     "name": "stderr",
     "output_type": "stream",
     "text": [
      "                                                              \r"
     ]
    },
    {
     "name": "stdout",
     "output_type": "stream",
     "text": [
      "Moviepy - Done !\n",
      "Moviepy - video ready 社恐（划掉）青海摇2.0_但是被路人看见.mp4\n",
      "合并完成: 社恐（划掉）青海摇2.0_但是被路人看见.mp4\n",
      "Moviepy - Building video 第一次外景有点紧张.mp4.\n",
      "MoviePy - Writing audio in 第一次外景有点紧张TEMP_MPY_wvf_snd.mp4\n"
     ]
    },
    {
     "name": "stderr",
     "output_type": "stream",
     "text": [
      "                                                                    \r"
     ]
    },
    {
     "name": "stdout",
     "output_type": "stream",
     "text": [
      "MoviePy - Done.\n",
      "Moviepy - Writing video 第一次外景有点紧张.mp4\n",
      "\n"
     ]
    },
    {
     "name": "stderr",
     "output_type": "stream",
     "text": [
      "                                                              \r"
     ]
    },
    {
     "name": "stdout",
     "output_type": "stream",
     "text": [
      "Moviepy - Done !\n",
      "Moviepy - video ready 第一次外景有点紧张.mp4\n",
      "合并完成: 第一次外景有点紧张.mp4\n"
     ]
    }
   ],
   "source": [
    "# 使用python的moivepy库合并音视频文件\n",
    "from moviepy.editor import VideoFileClip, AudioFileClip\n",
    "def merge_video_audio(video_file, audio_file):\n",
    "    # 获取不包含分辨率和采样率的文件名\n",
    "    base_name = os.path.splitext(video_file)[0].replace('.1080', '')\n",
    "    output_file = f\"{base_name}.mp4\"\n",
    "    \n",
    "    # 加载视频和音频文件\n",
    "    video_clip = VideoFileClip(video_file)\n",
    "    audio_clip = AudioFileClip(audio_file)\n",
    "    \n",
    "    # 设置音频到视频\n",
    "    final_clip = video_clip.set_audio(audio_clip)\n",
    "    \n",
    "    # 写入输出文件\n",
    "    final_clip.write_videofile(output_file, codec='libx264', audio_codec='aac')\n",
    "    \n",
    "    # 释放资源\n",
    "    video_clip.close()\n",
    "    audio_clip.close()\n",
    "    final_clip.close()\n",
    "    \n",
    "    print(f\"合并完成: {output_file}\")\n",
    "\n",
    "# 遍历所有视频文件，尝试找到对应的音频文件进行合并\n",
    "for video_file in video_files:\n",
    "    # 构建对应的音频文件名\n",
    "    audio_file = video_file.replace('1080', '192k').replace(video_ext, audio_ext)\n",
    "    \n",
    "    if audio_file in audio_files:\n",
    "        merge_video_audio(video_file, audio_file)\n",
    "    else:\n",
    "        print(f\"未找到对应的音频文件: {audio_file}\")"
   ]
  }
 ],
 "metadata": {
  "kernelspec": {
   "display_name": "Python 3",
   "language": "python",
   "name": "python3"
  },
  "language_info": {
   "codemirror_mode": {
    "name": "ipython",
    "version": 3
   },
   "file_extension": ".py",
   "mimetype": "text/x-python",
   "name": "python",
   "nbconvert_exporter": "python",
   "pygments_lexer": "ipython3",
   "version": "3.8.6"
  }
 },
 "nbformat": 4,
 "nbformat_minor": 5
}
